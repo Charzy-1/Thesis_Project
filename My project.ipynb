{
 "cells": [
  {
   "cell_type": "markdown",
   "id": "932c2a5d",
   "metadata": {},
   "source": [
    "### This project is targetted at building a machine learning module that will predict tommorrows's price of GBP/USD given historical data"
   ]
  },
  {
   "cell_type": "code",
   "execution_count": 5,
   "id": "6a5e40a5",
   "metadata": {},
   "outputs": [],
   "source": [
    "import pandas as pd\n",
    "import numpy as np\n",
    "import matplotlib.pyplot as plt"
   ]
  },
  {
   "cell_type": "code",
   "execution_count": 4,
   "id": "93030533",
   "metadata": {
    "scrolled": true
   },
   "outputs": [
    {
     "data": {
      "text/html": [
       "<div>\n",
       "<style scoped>\n",
       "    .dataframe tbody tr th:only-of-type {\n",
       "        vertical-align: middle;\n",
       "    }\n",
       "\n",
       "    .dataframe tbody tr th {\n",
       "        vertical-align: top;\n",
       "    }\n",
       "\n",
       "    .dataframe thead th {\n",
       "        text-align: right;\n",
       "    }\n",
       "</style>\n",
       "<table border=\"1\" class=\"dataframe\">\n",
       "  <thead>\n",
       "    <tr style=\"text-align: right;\">\n",
       "      <th></th>\n",
       "      <th>open</th>\n",
       "      <th>high</th>\n",
       "      <th>low</th>\n",
       "      <th>close</th>\n",
       "      <th>volume</th>\n",
       "      <th>trades</th>\n",
       "    </tr>\n",
       "  </thead>\n",
       "  <tbody>\n",
       "    <tr>\n",
       "      <th>0</th>\n",
       "      <td>1.26200</td>\n",
       "      <td>1.26200</td>\n",
       "      <td>1.21987</td>\n",
       "      <td>1.25767</td>\n",
       "      <td>50479.171816</td>\n",
       "      <td>363</td>\n",
       "    </tr>\n",
       "    <tr>\n",
       "      <th>1</th>\n",
       "      <td>1.25418</td>\n",
       "      <td>1.26102</td>\n",
       "      <td>1.20921</td>\n",
       "      <td>1.20930</td>\n",
       "      <td>421349.633527</td>\n",
       "      <td>1800</td>\n",
       "    </tr>\n",
       "    <tr>\n",
       "      <th>2</th>\n",
       "      <td>1.22529</td>\n",
       "      <td>1.23034</td>\n",
       "      <td>1.21296</td>\n",
       "      <td>1.21586</td>\n",
       "      <td>55055.320364</td>\n",
       "      <td>197</td>\n",
       "    </tr>\n",
       "    <tr>\n",
       "      <th>3</th>\n",
       "      <td>1.21553</td>\n",
       "      <td>1.23589</td>\n",
       "      <td>1.20456</td>\n",
       "      <td>1.22904</td>\n",
       "      <td>74545.623739</td>\n",
       "      <td>383</td>\n",
       "    </tr>\n",
       "    <tr>\n",
       "      <th>4</th>\n",
       "      <td>1.22785</td>\n",
       "      <td>1.26646</td>\n",
       "      <td>1.18527</td>\n",
       "      <td>1.22169</td>\n",
       "      <td>230405.496419</td>\n",
       "      <td>901</td>\n",
       "    </tr>\n",
       "  </tbody>\n",
       "</table>\n",
       "</div>"
      ],
      "text/plain": [
       "      open     high      low    close         volume  trades\n",
       "0  1.26200  1.26200  1.21987  1.25767   50479.171816     363\n",
       "1  1.25418  1.26102  1.20921  1.20930  421349.633527    1800\n",
       "2  1.22529  1.23034  1.21296  1.21586   55055.320364     197\n",
       "3  1.21553  1.23589  1.20456  1.22904   74545.623739     383\n",
       "4  1.22785  1.26646  1.18527  1.22169  230405.496419     901"
      ]
     },
     "execution_count": 4,
     "metadata": {},
     "output_type": "execute_result"
    }
   ],
   "source": [
    "# Reading the dataset\n",
    "GU = pd.read_csv('OHLCVT_GBP-USD_1440.csv')\n",
    "GU.head()"
   ]
  },
  {
   "cell_type": "code",
   "execution_count": 3,
   "id": "bdce0310",
   "metadata": {},
   "outputs": [
    {
     "data": {
      "text/plain": [
       "(660, 6)"
      ]
     },
     "execution_count": 3,
     "metadata": {},
     "output_type": "execute_result"
    }
   ],
   "source": [
    "# looking at the shape of the dataset\n",
    "GU.shape"
   ]
  },
  {
   "cell_type": "code",
   "execution_count": null,
   "id": "22f79548",
   "metadata": {},
   "outputs": [],
   "source": []
  }
 ],
 "metadata": {
  "kernelspec": {
   "display_name": "Python 3",
   "language": "python",
   "name": "python3"
  },
  "language_info": {
   "codemirror_mode": {
    "name": "ipython",
    "version": 3
   },
   "file_extension": ".py",
   "mimetype": "text/x-python",
   "name": "python",
   "nbconvert_exporter": "python",
   "pygments_lexer": "ipython3",
   "version": "3.8.8"
  }
 },
 "nbformat": 4,
 "nbformat_minor": 5
}
