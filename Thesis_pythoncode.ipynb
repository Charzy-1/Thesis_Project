{
  "nbformat": 4,
  "nbformat_minor": 0,
  "metadata": {
    "colab": {
      "provenance": [],
      "authorship_tag": "ABX9TyOzT7jQMNorRqzBS2FlBrcU",
      "include_colab_link": true
    },
    "kernelspec": {
      "name": "python3",
      "display_name": "Python 3"
    },
    "language_info": {
      "name": "python"
    }
  },
  "cells": [
    {
      "cell_type": "markdown",
      "metadata": {
        "id": "view-in-github",
        "colab_type": "text"
      },
      "source": [
        "<a href=\"https://colab.research.google.com/github/Charzy-1/Thesis_Project/blob/main/Thesis_pythoncode.ipynb\" target=\"_parent\"><img src=\"https://colab.research.google.com/assets/colab-badge.svg\" alt=\"Open In Colab\"/></a>"
      ]
    },
    {
      "cell_type": "code",
      "execution_count": null,
      "metadata": {
        "id": "zj5DDYXmuhL9",
        "outputId": "3e3d26c8-a40d-4598-f02b-074a30bc0bb3",
        "colab": {
          "base_uri": "https://localhost:8080/"
        }
      },
      "outputs": [
        {
          "output_type": "stream",
          "name": "stdout",
          "text": [
            "welcome to colab\n"
          ]
        }
      ],
      "source": [
        "print('welcome to colab')"
      ]
    },
    {
      "cell_type": "code",
      "source": [
        "import numpy as np\n",
        "import pandas as pd\n",
        "import matplotlib.pyplot as plt\n",
        "import math\n",
        "from sklearn.preprocessing import MinMaxScaler\n",
        "from keras.models import Sequential\n",
        "from keras.layers import Dense, LSTM\n",
        "import pandas_datareader as pdr"
      ],
      "metadata": {
        "id": "BTp92BBVlcsf"
      },
      "execution_count": null,
      "outputs": []
    },
    {
      "cell_type": "code",
      "source": [
        "from google.colab import drive\n",
        "drive.mount('/content/drive')"
      ],
      "metadata": {
        "colab": {
          "base_uri": "https://localhost:8080/"
        },
        "id": "BOaCPwYNr2cS",
        "outputId": "cd115934-b7a0-4537-f721-70e3982280c7"
      },
      "execution_count": null,
      "outputs": [
        {
          "output_type": "stream",
          "name": "stdout",
          "text": [
            "Mounted at /content/drive\n"
          ]
        }
      ]
    },
    {
      "cell_type": "code",
      "source": [
        "import pandas as pd\n",
        "df = pd.read_csv('/content/drive/MyDrive/2013.csv')"
      ],
      "metadata": {
        "id": "3aUjPy_AsKwq"
      },
      "execution_count": null,
      "outputs": []
    },
    {
      "cell_type": "code",
      "source": [
        "#Get the stock\n",
        "df.head()"
      ],
      "metadata": {
        "colab": {
          "base_uri": "https://localhost:8080/",
          "height": 337
        },
        "id": "OhuRnnZ1mq8k",
        "outputId": "1bd680a7-f4ce-43c3-f58e-823e33d5128a"
      },
      "execution_count": null,
      "outputs": [
        {
          "output_type": "execute_result",
          "data": {
            "text/plain": [
              "         Date         Open         High          Low        Close  \\\n",
              "0  2013-04-10  3246.060059  3299.159912  3245.800049  3297.250000   \n",
              "1  2013-04-11  3289.590088  3306.949951  3287.739990  3300.159912   \n",
              "2  2013-04-12  3292.389893  3296.500000  3271.020020  3294.949951   \n",
              "3  2013-04-15  3277.580078  3283.399902  3213.459961  3216.489990   \n",
              "4  2013-04-16  3239.050049  3265.840088  3231.449951  3264.629883   \n",
              "\n",
              "     Adj Close      Volume  \n",
              "0  3297.250000  1769870000  \n",
              "1  3300.159912  1829170000  \n",
              "2  3294.949951  1471180000  \n",
              "3  3216.489990  1779320000  \n",
              "4  3264.629883  1515400000  "
            ],
            "text/html": [
              "\n",
              "  <div id=\"df-2d333abf-cde0-44db-8811-5199800705bd\">\n",
              "    <div class=\"colab-df-container\">\n",
              "      <div>\n",
              "<style scoped>\n",
              "    .dataframe tbody tr th:only-of-type {\n",
              "        vertical-align: middle;\n",
              "    }\n",
              "\n",
              "    .dataframe tbody tr th {\n",
              "        vertical-align: top;\n",
              "    }\n",
              "\n",
              "    .dataframe thead th {\n",
              "        text-align: right;\n",
              "    }\n",
              "</style>\n",
              "<table border=\"1\" class=\"dataframe\">\n",
              "  <thead>\n",
              "    <tr style=\"text-align: right;\">\n",
              "      <th></th>\n",
              "      <th>Date</th>\n",
              "      <th>Open</th>\n",
              "      <th>High</th>\n",
              "      <th>Low</th>\n",
              "      <th>Close</th>\n",
              "      <th>Adj Close</th>\n",
              "      <th>Volume</th>\n",
              "    </tr>\n",
              "  </thead>\n",
              "  <tbody>\n",
              "    <tr>\n",
              "      <th>0</th>\n",
              "      <td>2013-04-10</td>\n",
              "      <td>3246.060059</td>\n",
              "      <td>3299.159912</td>\n",
              "      <td>3245.800049</td>\n",
              "      <td>3297.250000</td>\n",
              "      <td>3297.250000</td>\n",
              "      <td>1769870000</td>\n",
              "    </tr>\n",
              "    <tr>\n",
              "      <th>1</th>\n",
              "      <td>2013-04-11</td>\n",
              "      <td>3289.590088</td>\n",
              "      <td>3306.949951</td>\n",
              "      <td>3287.739990</td>\n",
              "      <td>3300.159912</td>\n",
              "      <td>3300.159912</td>\n",
              "      <td>1829170000</td>\n",
              "    </tr>\n",
              "    <tr>\n",
              "      <th>2</th>\n",
              "      <td>2013-04-12</td>\n",
              "      <td>3292.389893</td>\n",
              "      <td>3296.500000</td>\n",
              "      <td>3271.020020</td>\n",
              "      <td>3294.949951</td>\n",
              "      <td>3294.949951</td>\n",
              "      <td>1471180000</td>\n",
              "    </tr>\n",
              "    <tr>\n",
              "      <th>3</th>\n",
              "      <td>2013-04-15</td>\n",
              "      <td>3277.580078</td>\n",
              "      <td>3283.399902</td>\n",
              "      <td>3213.459961</td>\n",
              "      <td>3216.489990</td>\n",
              "      <td>3216.489990</td>\n",
              "      <td>1779320000</td>\n",
              "    </tr>\n",
              "    <tr>\n",
              "      <th>4</th>\n",
              "      <td>2013-04-16</td>\n",
              "      <td>3239.050049</td>\n",
              "      <td>3265.840088</td>\n",
              "      <td>3231.449951</td>\n",
              "      <td>3264.629883</td>\n",
              "      <td>3264.629883</td>\n",
              "      <td>1515400000</td>\n",
              "    </tr>\n",
              "  </tbody>\n",
              "</table>\n",
              "</div>\n",
              "      <button class=\"colab-df-convert\" onclick=\"convertToInteractive('df-2d333abf-cde0-44db-8811-5199800705bd')\"\n",
              "              title=\"Convert this dataframe to an interactive table.\"\n",
              "              style=\"display:none;\">\n",
              "        \n",
              "  <svg xmlns=\"http://www.w3.org/2000/svg\" height=\"24px\"viewBox=\"0 0 24 24\"\n",
              "       width=\"24px\">\n",
              "    <path d=\"M0 0h24v24H0V0z\" fill=\"none\"/>\n",
              "    <path d=\"M18.56 5.44l.94 2.06.94-2.06 2.06-.94-2.06-.94-.94-2.06-.94 2.06-2.06.94zm-11 1L8.5 8.5l.94-2.06 2.06-.94-2.06-.94L8.5 2.5l-.94 2.06-2.06.94zm10 10l.94 2.06.94-2.06 2.06-.94-2.06-.94-.94-2.06-.94 2.06-2.06.94z\"/><path d=\"M17.41 7.96l-1.37-1.37c-.4-.4-.92-.59-1.43-.59-.52 0-1.04.2-1.43.59L10.3 9.45l-7.72 7.72c-.78.78-.78 2.05 0 2.83L4 21.41c.39.39.9.59 1.41.59.51 0 1.02-.2 1.41-.59l7.78-7.78 2.81-2.81c.8-.78.8-2.07 0-2.86zM5.41 20L4 18.59l7.72-7.72 1.47 1.35L5.41 20z\"/>\n",
              "  </svg>\n",
              "      </button>\n",
              "      \n",
              "  <style>\n",
              "    .colab-df-container {\n",
              "      display:flex;\n",
              "      flex-wrap:wrap;\n",
              "      gap: 12px;\n",
              "    }\n",
              "\n",
              "    .colab-df-convert {\n",
              "      background-color: #E8F0FE;\n",
              "      border: none;\n",
              "      border-radius: 50%;\n",
              "      cursor: pointer;\n",
              "      display: none;\n",
              "      fill: #1967D2;\n",
              "      height: 32px;\n",
              "      padding: 0 0 0 0;\n",
              "      width: 32px;\n",
              "    }\n",
              "\n",
              "    .colab-df-convert:hover {\n",
              "      background-color: #E2EBFA;\n",
              "      box-shadow: 0px 1px 2px rgba(60, 64, 67, 0.3), 0px 1px 3px 1px rgba(60, 64, 67, 0.15);\n",
              "      fill: #174EA6;\n",
              "    }\n",
              "\n",
              "    [theme=dark] .colab-df-convert {\n",
              "      background-color: #3B4455;\n",
              "      fill: #D2E3FC;\n",
              "    }\n",
              "\n",
              "    [theme=dark] .colab-df-convert:hover {\n",
              "      background-color: #434B5C;\n",
              "      box-shadow: 0px 1px 3px 1px rgba(0, 0, 0, 0.15);\n",
              "      filter: drop-shadow(0px 1px 2px rgba(0, 0, 0, 0.3));\n",
              "      fill: #FFFFFF;\n",
              "    }\n",
              "  </style>\n",
              "\n",
              "      <script>\n",
              "        const buttonEl =\n",
              "          document.querySelector('#df-2d333abf-cde0-44db-8811-5199800705bd button.colab-df-convert');\n",
              "        buttonEl.style.display =\n",
              "          google.colab.kernel.accessAllowed ? 'block' : 'none';\n",
              "\n",
              "        async function convertToInteractive(key) {\n",
              "          const element = document.querySelector('#df-2d333abf-cde0-44db-8811-5199800705bd');\n",
              "          const dataTable =\n",
              "            await google.colab.kernel.invokeFunction('convertToInteractive',\n",
              "                                                     [key], {});\n",
              "          if (!dataTable) return;\n",
              "\n",
              "          const docLinkHtml = 'Like what you see? Visit the ' +\n",
              "            '<a target=\"_blank\" href=https://colab.research.google.com/notebooks/data_table.ipynb>data table notebook</a>'\n",
              "            + ' to learn more about interactive tables.';\n",
              "          element.innerHTML = '';\n",
              "          dataTable['output_type'] = 'display_data';\n",
              "          await google.colab.output.renderOutput(dataTable, element);\n",
              "          const docLink = document.createElement('div');\n",
              "          docLink.innerHTML = docLinkHtml;\n",
              "          element.appendChild(docLink);\n",
              "        }\n",
              "      </script>\n",
              "    </div>\n",
              "  </div>\n",
              "  "
            ]
          },
          "metadata": {},
          "execution_count": 4
        }
      ]
    },
    {
      "cell_type": "code",
      "source": [
        "df1 = df[['Date', 'Close']]\n",
        "df1.head()"
      ],
      "metadata": {
        "colab": {
          "base_uri": "https://localhost:8080/",
          "height": 206
        },
        "id": "MA7SvEpg8q6S",
        "outputId": "2de5d438-fda9-43bd-aec5-10dcfc349d29"
      },
      "execution_count": null,
      "outputs": [
        {
          "output_type": "execute_result",
          "data": {
            "text/plain": [
              "         Date        Close\n",
              "0  2013-04-10  3297.250000\n",
              "1  2013-04-11  3300.159912\n",
              "2  2013-04-12  3294.949951\n",
              "3  2013-04-15  3216.489990\n",
              "4  2013-04-16  3264.629883"
            ],
            "text/html": [
              "\n",
              "  <div id=\"df-bdf1e59e-2b54-4ac6-80a7-987bd0b9d527\">\n",
              "    <div class=\"colab-df-container\">\n",
              "      <div>\n",
              "<style scoped>\n",
              "    .dataframe tbody tr th:only-of-type {\n",
              "        vertical-align: middle;\n",
              "    }\n",
              "\n",
              "    .dataframe tbody tr th {\n",
              "        vertical-align: top;\n",
              "    }\n",
              "\n",
              "    .dataframe thead th {\n",
              "        text-align: right;\n",
              "    }\n",
              "</style>\n",
              "<table border=\"1\" class=\"dataframe\">\n",
              "  <thead>\n",
              "    <tr style=\"text-align: right;\">\n",
              "      <th></th>\n",
              "      <th>Date</th>\n",
              "      <th>Close</th>\n",
              "    </tr>\n",
              "  </thead>\n",
              "  <tbody>\n",
              "    <tr>\n",
              "      <th>0</th>\n",
              "      <td>2013-04-10</td>\n",
              "      <td>3297.250000</td>\n",
              "    </tr>\n",
              "    <tr>\n",
              "      <th>1</th>\n",
              "      <td>2013-04-11</td>\n",
              "      <td>3300.159912</td>\n",
              "    </tr>\n",
              "    <tr>\n",
              "      <th>2</th>\n",
              "      <td>2013-04-12</td>\n",
              "      <td>3294.949951</td>\n",
              "    </tr>\n",
              "    <tr>\n",
              "      <th>3</th>\n",
              "      <td>2013-04-15</td>\n",
              "      <td>3216.489990</td>\n",
              "    </tr>\n",
              "    <tr>\n",
              "      <th>4</th>\n",
              "      <td>2013-04-16</td>\n",
              "      <td>3264.629883</td>\n",
              "    </tr>\n",
              "  </tbody>\n",
              "</table>\n",
              "</div>\n",
              "      <button class=\"colab-df-convert\" onclick=\"convertToInteractive('df-bdf1e59e-2b54-4ac6-80a7-987bd0b9d527')\"\n",
              "              title=\"Convert this dataframe to an interactive table.\"\n",
              "              style=\"display:none;\">\n",
              "        \n",
              "  <svg xmlns=\"http://www.w3.org/2000/svg\" height=\"24px\"viewBox=\"0 0 24 24\"\n",
              "       width=\"24px\">\n",
              "    <path d=\"M0 0h24v24H0V0z\" fill=\"none\"/>\n",
              "    <path d=\"M18.56 5.44l.94 2.06.94-2.06 2.06-.94-2.06-.94-.94-2.06-.94 2.06-2.06.94zm-11 1L8.5 8.5l.94-2.06 2.06-.94-2.06-.94L8.5 2.5l-.94 2.06-2.06.94zm10 10l.94 2.06.94-2.06 2.06-.94-2.06-.94-.94-2.06-.94 2.06-2.06.94z\"/><path d=\"M17.41 7.96l-1.37-1.37c-.4-.4-.92-.59-1.43-.59-.52 0-1.04.2-1.43.59L10.3 9.45l-7.72 7.72c-.78.78-.78 2.05 0 2.83L4 21.41c.39.39.9.59 1.41.59.51 0 1.02-.2 1.41-.59l7.78-7.78 2.81-2.81c.8-.78.8-2.07 0-2.86zM5.41 20L4 18.59l7.72-7.72 1.47 1.35L5.41 20z\"/>\n",
              "  </svg>\n",
              "      </button>\n",
              "      \n",
              "  <style>\n",
              "    .colab-df-container {\n",
              "      display:flex;\n",
              "      flex-wrap:wrap;\n",
              "      gap: 12px;\n",
              "    }\n",
              "\n",
              "    .colab-df-convert {\n",
              "      background-color: #E8F0FE;\n",
              "      border: none;\n",
              "      border-radius: 50%;\n",
              "      cursor: pointer;\n",
              "      display: none;\n",
              "      fill: #1967D2;\n",
              "      height: 32px;\n",
              "      padding: 0 0 0 0;\n",
              "      width: 32px;\n",
              "    }\n",
              "\n",
              "    .colab-df-convert:hover {\n",
              "      background-color: #E2EBFA;\n",
              "      box-shadow: 0px 1px 2px rgba(60, 64, 67, 0.3), 0px 1px 3px 1px rgba(60, 64, 67, 0.15);\n",
              "      fill: #174EA6;\n",
              "    }\n",
              "\n",
              "    [theme=dark] .colab-df-convert {\n",
              "      background-color: #3B4455;\n",
              "      fill: #D2E3FC;\n",
              "    }\n",
              "\n",
              "    [theme=dark] .colab-df-convert:hover {\n",
              "      background-color: #434B5C;\n",
              "      box-shadow: 0px 1px 3px 1px rgba(0, 0, 0, 0.15);\n",
              "      filter: drop-shadow(0px 1px 2px rgba(0, 0, 0, 0.3));\n",
              "      fill: #FFFFFF;\n",
              "    }\n",
              "  </style>\n",
              "\n",
              "      <script>\n",
              "        const buttonEl =\n",
              "          document.querySelector('#df-bdf1e59e-2b54-4ac6-80a7-987bd0b9d527 button.colab-df-convert');\n",
              "        buttonEl.style.display =\n",
              "          google.colab.kernel.accessAllowed ? 'block' : 'none';\n",
              "\n",
              "        async function convertToInteractive(key) {\n",
              "          const element = document.querySelector('#df-bdf1e59e-2b54-4ac6-80a7-987bd0b9d527');\n",
              "          const dataTable =\n",
              "            await google.colab.kernel.invokeFunction('convertToInteractive',\n",
              "                                                     [key], {});\n",
              "          if (!dataTable) return;\n",
              "\n",
              "          const docLinkHtml = 'Like what you see? Visit the ' +\n",
              "            '<a target=\"_blank\" href=https://colab.research.google.com/notebooks/data_table.ipynb>data table notebook</a>'\n",
              "            + ' to learn more about interactive tables.';\n",
              "          element.innerHTML = '';\n",
              "          dataTable['output_type'] = 'display_data';\n",
              "          await google.colab.output.renderOutput(dataTable, element);\n",
              "          const docLink = document.createElement('div');\n",
              "          docLink.innerHTML = docLinkHtml;\n",
              "          element.appendChild(docLink);\n",
              "        }\n",
              "      </script>\n",
              "    </div>\n",
              "  </div>\n",
              "  "
            ]
          },
          "metadata": {},
          "execution_count": 4
        }
      ]
    },
    {
      "cell_type": "code",
      "source": [
        "df1.index = df1.pop('Date')\n",
        "df1.head()\n"
      ],
      "metadata": {
        "colab": {
          "base_uri": "https://localhost:8080/",
          "height": 238
        },
        "id": "48Y-oIJLIdqD",
        "outputId": "73c64c03-6e3b-455c-e369-d2aa5d9fa7d7"
      },
      "execution_count": null,
      "outputs": [
        {
          "output_type": "execute_result",
          "data": {
            "text/plain": [
              "                  Close\n",
              "Date                   \n",
              "2013-04-10  3297.250000\n",
              "2013-04-11  3300.159912\n",
              "2013-04-12  3294.949951\n",
              "2013-04-15  3216.489990\n",
              "2013-04-16  3264.629883"
            ],
            "text/html": [
              "\n",
              "  <div id=\"df-d79afea4-ea82-408c-9fe2-f72f300dd995\">\n",
              "    <div class=\"colab-df-container\">\n",
              "      <div>\n",
              "<style scoped>\n",
              "    .dataframe tbody tr th:only-of-type {\n",
              "        vertical-align: middle;\n",
              "    }\n",
              "\n",
              "    .dataframe tbody tr th {\n",
              "        vertical-align: top;\n",
              "    }\n",
              "\n",
              "    .dataframe thead th {\n",
              "        text-align: right;\n",
              "    }\n",
              "</style>\n",
              "<table border=\"1\" class=\"dataframe\">\n",
              "  <thead>\n",
              "    <tr style=\"text-align: right;\">\n",
              "      <th></th>\n",
              "      <th>Close</th>\n",
              "    </tr>\n",
              "    <tr>\n",
              "      <th>Date</th>\n",
              "      <th></th>\n",
              "    </tr>\n",
              "  </thead>\n",
              "  <tbody>\n",
              "    <tr>\n",
              "      <th>2013-04-10</th>\n",
              "      <td>3297.250000</td>\n",
              "    </tr>\n",
              "    <tr>\n",
              "      <th>2013-04-11</th>\n",
              "      <td>3300.159912</td>\n",
              "    </tr>\n",
              "    <tr>\n",
              "      <th>2013-04-12</th>\n",
              "      <td>3294.949951</td>\n",
              "    </tr>\n",
              "    <tr>\n",
              "      <th>2013-04-15</th>\n",
              "      <td>3216.489990</td>\n",
              "    </tr>\n",
              "    <tr>\n",
              "      <th>2013-04-16</th>\n",
              "      <td>3264.629883</td>\n",
              "    </tr>\n",
              "  </tbody>\n",
              "</table>\n",
              "</div>\n",
              "      <button class=\"colab-df-convert\" onclick=\"convertToInteractive('df-d79afea4-ea82-408c-9fe2-f72f300dd995')\"\n",
              "              title=\"Convert this dataframe to an interactive table.\"\n",
              "              style=\"display:none;\">\n",
              "        \n",
              "  <svg xmlns=\"http://www.w3.org/2000/svg\" height=\"24px\"viewBox=\"0 0 24 24\"\n",
              "       width=\"24px\">\n",
              "    <path d=\"M0 0h24v24H0V0z\" fill=\"none\"/>\n",
              "    <path d=\"M18.56 5.44l.94 2.06.94-2.06 2.06-.94-2.06-.94-.94-2.06-.94 2.06-2.06.94zm-11 1L8.5 8.5l.94-2.06 2.06-.94-2.06-.94L8.5 2.5l-.94 2.06-2.06.94zm10 10l.94 2.06.94-2.06 2.06-.94-2.06-.94-.94-2.06-.94 2.06-2.06.94z\"/><path d=\"M17.41 7.96l-1.37-1.37c-.4-.4-.92-.59-1.43-.59-.52 0-1.04.2-1.43.59L10.3 9.45l-7.72 7.72c-.78.78-.78 2.05 0 2.83L4 21.41c.39.39.9.59 1.41.59.51 0 1.02-.2 1.41-.59l7.78-7.78 2.81-2.81c.8-.78.8-2.07 0-2.86zM5.41 20L4 18.59l7.72-7.72 1.47 1.35L5.41 20z\"/>\n",
              "  </svg>\n",
              "      </button>\n",
              "      \n",
              "  <style>\n",
              "    .colab-df-container {\n",
              "      display:flex;\n",
              "      flex-wrap:wrap;\n",
              "      gap: 12px;\n",
              "    }\n",
              "\n",
              "    .colab-df-convert {\n",
              "      background-color: #E8F0FE;\n",
              "      border: none;\n",
              "      border-radius: 50%;\n",
              "      cursor: pointer;\n",
              "      display: none;\n",
              "      fill: #1967D2;\n",
              "      height: 32px;\n",
              "      padding: 0 0 0 0;\n",
              "      width: 32px;\n",
              "    }\n",
              "\n",
              "    .colab-df-convert:hover {\n",
              "      background-color: #E2EBFA;\n",
              "      box-shadow: 0px 1px 2px rgba(60, 64, 67, 0.3), 0px 1px 3px 1px rgba(60, 64, 67, 0.15);\n",
              "      fill: #174EA6;\n",
              "    }\n",
              "\n",
              "    [theme=dark] .colab-df-convert {\n",
              "      background-color: #3B4455;\n",
              "      fill: #D2E3FC;\n",
              "    }\n",
              "\n",
              "    [theme=dark] .colab-df-convert:hover {\n",
              "      background-color: #434B5C;\n",
              "      box-shadow: 0px 1px 3px 1px rgba(0, 0, 0, 0.15);\n",
              "      filter: drop-shadow(0px 1px 2px rgba(0, 0, 0, 0.3));\n",
              "      fill: #FFFFFF;\n",
              "    }\n",
              "  </style>\n",
              "\n",
              "      <script>\n",
              "        const buttonEl =\n",
              "          document.querySelector('#df-d79afea4-ea82-408c-9fe2-f72f300dd995 button.colab-df-convert');\n",
              "        buttonEl.style.display =\n",
              "          google.colab.kernel.accessAllowed ? 'block' : 'none';\n",
              "\n",
              "        async function convertToInteractive(key) {\n",
              "          const element = document.querySelector('#df-d79afea4-ea82-408c-9fe2-f72f300dd995');\n",
              "          const dataTable =\n",
              "            await google.colab.kernel.invokeFunction('convertToInteractive',\n",
              "                                                     [key], {});\n",
              "          if (!dataTable) return;\n",
              "\n",
              "          const docLinkHtml = 'Like what you see? Visit the ' +\n",
              "            '<a target=\"_blank\" href=https://colab.research.google.com/notebooks/data_table.ipynb>data table notebook</a>'\n",
              "            + ' to learn more about interactive tables.';\n",
              "          element.innerHTML = '';\n",
              "          dataTable['output_type'] = 'display_data';\n",
              "          await google.colab.output.renderOutput(dataTable, element);\n",
              "          const docLink = document.createElement('div');\n",
              "          docLink.innerHTML = docLinkHtml;\n",
              "          element.appendChild(docLink);\n",
              "        }\n",
              "      </script>\n",
              "    </div>\n",
              "  </div>\n",
              "  "
            ]
          },
          "metadata": {},
          "execution_count": 5
        }
      ]
    },
    {
      "cell_type": "code",
      "source": [
        "import datetime"
      ],
      "metadata": {
        "id": "DSQTt1Ob7hH-"
      },
      "execution_count": null,
      "outputs": []
    },
    {
      "cell_type": "code",
      "source": [
        "def str_to_datetime(s):\n",
        "    split = s.split('-')\n",
        "    year, month, day = int(split[0]), int(split[1]), int(split[2])\n",
        "    return datetime.datetime(year=year, month=month, day=day)\n",
        "\n",
        "datetimeobj=str_to_datetime('2013-04-10')\n",
        "datetimeobj"
      ],
      "metadata": {
        "colab": {
          "base_uri": "https://localhost:8080/"
        },
        "id": "pnBcbXmu7a-h",
        "outputId": "3b663d0c-4ba1-46c1-b8eb-291f30f4ff9b"
      },
      "execution_count": null,
      "outputs": [
        {
          "output_type": "execute_result",
          "data": {
            "text/plain": [
              "datetime.datetime(2013, 4, 10, 0, 0)"
            ]
          },
          "metadata": {},
          "execution_count": 7
        }
      ]
    },
    {
      "cell_type": "code",
      "source": [
        "df.shape"
      ],
      "metadata": {
        "colab": {
          "base_uri": "https://localhost:8080/"
        },
        "id": "6jFEBn0O4mlQ",
        "outputId": "fdd0f8d8-4060-4fa0-fa9a-869acd1d5163"
      },
      "execution_count": null,
      "outputs": [
        {
          "output_type": "execute_result",
          "data": {
            "text/plain": [
              "(2517, 7)"
            ]
          },
          "metadata": {},
          "execution_count": 8
        }
      ]
    },
    {
      "cell_type": "code",
      "source": [
        "#Plotting the closing price\n",
        "plt.title('Close price history')\n",
        "plt.plot(df1.index, df1['Close'])\n",
        "plt.xlabel('Date')\n",
        "plt.ylabel('Close price($)')  \n",
        "plt.show()"
      ],
      "metadata": {
        "colab": {
          "base_uri": "https://localhost:8080/",
          "height": 472
        },
        "id": "xt1O5WVD4weF",
        "outputId": "cb29aa3f-db87-458a-8e6e-145ca158cc4a"
      },
      "execution_count": null,
      "outputs": [
        {
          "output_type": "display_data",
          "data": {
            "text/plain": [
              "<Figure size 640x480 with 1 Axes>"
            ],
            "image/png": "[encoded data removed]"
          },
          "metadata": {}
        }
      ]
    },
    {
      "cell_type": "code",
      "source": [
        "#create a new dataframe with only the close column\n",
        "close_data_df = df1.filter(['Close'])\n",
        "#converting the dataframe to a numpy array\n",
        "dataset = close_data_df.values\n",
        "#get the number of rows to train the model on\n",
        "training_data_len = math.ceil(len(close_data_df) * .8)\n",
        "\n",
        "print(training_data_len)"
      ],
      "metadata": {
        "colab": {
          "base_uri": "https://localhost:8080/"
        },
        "id": "Tl97Ods8JaGb",
        "outputId": "ad90cf72-5cf3-495a-e113-de675c599938"
      },
      "execution_count": null,
      "outputs": [
        {
          "output_type": "stream",
          "name": "stdout",
          "text": [
            "2014\n"
          ]
        }
      ]
    },
    {
      "cell_type": "code",
      "source": [
        "# scale the data\n",
        "scaler = MinMaxScaler(feature_range=(0,1))\n",
        "#transforming our data based on two imput values (0 and 1) above this code \n",
        "scaled_data = scaler.fit_transform(dataset)\n",
        "\n",
        "scaled_data"
      ],
      "metadata": {
        "colab": {
          "base_uri": "https://localhost:8080/"
        },
        "id": "hnusRz80OK4-",
        "outputId": "e38e6329-556f-4608-8d35-c0936e06efe9"
      },
      "execution_count": null,
      "outputs": [
        {
          "output_type": "execute_result",
          "data": {
            "text/plain": [
              "array([[0.01015352],\n",
              "       [0.01037925],\n",
              "       [0.0099751 ],\n",
              "       ...,\n",
              "       [0.69505191],\n",
              "       [0.68500855],\n",
              "       [0.69207542]])"
            ]
          },
          "metadata": {},
          "execution_count": 10
        }
      ]
    },
    {
      "cell_type": "code",
      "source": [
        "#create the training dataset\n",
        "#create the scaled training data set\n",
        "train_data = scaled_data[0:training_data_len, :]\n",
        "#split the data into x_train and y_train datasets\n",
        "x_train = [] #independent training variable or training features\n",
        "y_train = [] #dependent variable or target variable\n",
        "\n",
        "for i in range(60, len(train_data)):\n",
        "    x_train.append(train_data[i-60:i, 0])\n",
        "    y_train.append(train_data[i,0])\n",
        "    if i<=61:\n",
        "        print(x_train)\n",
        "        print(y_train)\n",
        "        print()\n",
        "# x_train holds the past 60 values\n",
        "# y_train dataset contains the 61st value that we want our model to predict"
      ],
      "metadata": {
        "colab": {
          "base_uri": "https://localhost:8080/"
        },
        "id": "b0zFm3h3UhY5",
        "outputId": "4cf6f572-87cb-482a-9d93-c487950ea995"
      },
      "execution_count": null,
      "outputs": [
        {
          "output_type": "stream",
          "name": "stdout",
          "text": [
            "[array([0.01015352, 0.01037925, 0.0099751 , 0.00388873, 0.00762308,\n",
            "       0.00297181, 0.        , 0.00307965, 0.00521213, 0.00798769,\n",
            "       0.0080125 , 0.00959034, 0.00875799, 0.01091141, 0.01260018,\n",
            "       0.01029935, 0.01351787, 0.01646641, 0.01757881, 0.01786272,\n",
            "       0.01915355, 0.01883549, 0.02096178, 0.02113321, 0.02298101,\n",
            "       0.02367994, 0.02318501, 0.02580155, 0.02560451, 0.02604592,\n",
            "       0.02303453, 0.02273353, 0.02271181, 0.02501961, 0.02336188,\n",
            "       0.02520657, 0.02246125, 0.02319511, 0.02163511, 0.01823896,\n",
            "       0.01998979, 0.02349375, 0.02384671, 0.02099047, 0.0181575 ,\n",
            "       0.02164287, 0.01995178, 0.02216802, 0.0244991 , 0.0214753 ,\n",
            "       0.01538116, 0.01480791, 0.01197727, 0.01408181, 0.01627946,\n",
            "       0.01826845, 0.01837626, 0.02079964, 0.02071508, 0.02151176])]\n",
            "[0.024281888573878224]\n",
            "\n",
            "[array([0.01015352, 0.01037925, 0.0099751 , 0.00388873, 0.00762308,\n",
            "       0.00297181, 0.        , 0.00307965, 0.00521213, 0.00798769,\n",
            "       0.0080125 , 0.00959034, 0.00875799, 0.01091141, 0.01260018,\n",
            "       0.01029935, 0.01351787, 0.01646641, 0.01757881, 0.01786272,\n",
            "       0.01915355, 0.01883549, 0.02096178, 0.02113321, 0.02298101,\n",
            "       0.02367994, 0.02318501, 0.02580155, 0.02560451, 0.02604592,\n",
            "       0.02303453, 0.02273353, 0.02271181, 0.02501961, 0.02336188,\n",
            "       0.02520657, 0.02246125, 0.02319511, 0.02163511, 0.01823896,\n",
            "       0.01998979, 0.02349375, 0.02384671, 0.02099047, 0.0181575 ,\n",
            "       0.02164287, 0.01995178, 0.02216802, 0.0244991 , 0.0214753 ,\n",
            "       0.01538116, 0.01480791, 0.01197727, 0.01408181, 0.01627946,\n",
            "       0.01826845, 0.01837626, 0.02079964, 0.02071508, 0.02151176]), array([0.01037925, 0.0099751 , 0.00388873, 0.00762308, 0.00297181,\n",
            "       0.        , 0.00307965, 0.00521213, 0.00798769, 0.0080125 ,\n",
            "       0.00959034, 0.00875799, 0.01091141, 0.01260018, 0.01029935,\n",
            "       0.01351787, 0.01646641, 0.01757881, 0.01786272, 0.01915355,\n",
            "       0.01883549, 0.02096178, 0.02113321, 0.02298101, 0.02367994,\n",
            "       0.02318501, 0.02580155, 0.02560451, 0.02604592, 0.02303453,\n",
            "       0.02273353, 0.02271181, 0.02501961, 0.02336188, 0.02520657,\n",
            "       0.02246125, 0.02319511, 0.02163511, 0.01823896, 0.01998979,\n",
            "       0.02349375, 0.02384671, 0.02099047, 0.0181575 , 0.02164287,\n",
            "       0.01995178, 0.02216802, 0.0244991 , 0.0214753 , 0.01538116,\n",
            "       0.01480791, 0.01197727, 0.01408181, 0.01627946, 0.01826845,\n",
            "       0.01837626, 0.02079964, 0.02071508, 0.02151176, 0.02428189])]\n",
            "[0.024281888573878224, 0.024704676646207263]\n",
            "\n"
          ]
        }
      ]
    },
    {
      "cell_type": "code",
      "source": [
        "#convert the x_train and y_trainto numpy arrays to use them in training LSTM models\n",
        "x_train, y_train =np.array(x_train), np.array(y_train)"
      ],
      "metadata": {
        "id": "u-Iw5bOtWakP"
      },
      "execution_count": null,
      "outputs": []
    },
    {
      "cell_type": "code",
      "source": [
        "# reshape the training data to numpy array as LSTM model expects a 3D array and not 2D\n"
      ],
      "metadata": {
        "id": "wXE3wr3hWfz2"
      },
      "execution_count": null,
      "outputs": []
    },
    {
      "cell_type": "code",
      "source": [
        "#Reshape x_train the data because LSTM network expects the input to be 3D in the form of no. of samples, no. of time steps and number of features\n",
        "x_train = np.reshape(x_train, (x_train.shape[0], x_train.shape[1], 1))\n",
        "x_train.shape"
      ],
      "metadata": {
        "colab": {
          "base_uri": "https://localhost:8080/"
        },
        "id": "YxAOui-9W0u8",
        "outputId": "c72f6529-4fb3-4a86-b3a8-067c4190973e"
      },
      "execution_count": null,
      "outputs": [
        {
          "output_type": "execute_result",
          "data": {
            "text/plain": [
              "(1954, 60, 1)"
            ]
          },
          "metadata": {},
          "execution_count": 14
        }
      ]
    },
    {
      "cell_type": "code",
      "source": [
        "# Build the LSTM model\n",
        "model = Sequential()\n",
        "#Add LSTM layers to our model\n",
        "model.add(LSTM(30, return_sequences=False, input_shape=(x_train.shape[1], 1)))\n",
        "# model.add(LSTM(50, return_sequences=False))\n",
        "# model.add(Dense(25))\n",
        "model.add(Dense(1))"
      ],
      "metadata": {
        "id": "8f5IJr0_Xp8J"
      },
      "execution_count": null,
      "outputs": []
    },
    {
      "cell_type": "code",
      "source": [
        "#Compile the model\n",
        "model.compile(optimizer='adam', loss='mean_squared_error')\n",
        "#An optimizer is used to improve upon the loss function while the loss funtion is used to measure how well the model did on training"
      ],
      "metadata": {
        "id": "kQpuxQIkYQxw"
      },
      "execution_count": null,
      "outputs": []
    },
    {
      "cell_type": "code",
      "source": [
        "#Train the model\n",
        "model.fit(x_train, y_train, batch_size=128, epochs=50) #fit is another name for train\n",
        "#batch size it the total no. of training present in a single batch\n",
        "#epoch is the no. of iterations when an entire dataset is passed forward and backward through a neural network"
      ],
      "metadata": {
        "colab": {
          "base_uri": "https://localhost:8080/"
        },
        "id": "cLHR7ZT2Yc36",
        "outputId": "cd56050a-e8b4-4ee0-9f56-0a1ff82e1572"
      },
      "execution_count": null,
      "outputs": [
        {
          "output_type": "stream",
          "name": "stdout",
          "text": [
            "Epoch 1/50\n",
            "16/16 [==============================] - 1s 53ms/step - loss: 2.8047e-04\n",
            "Epoch 2/50\n",
            "16/16 [==============================] - 1s 49ms/step - loss: 2.6785e-04\n",
            "Epoch 3/50\n",
            "16/16 [==============================] - 0s 31ms/step - loss: 2.6177e-04\n",
            "Epoch 4/50\n",
            "16/16 [==============================] - 1s 45ms/step - loss: 2.5900e-04\n",
            "Epoch 5/50\n",
            "16/16 [==============================] - 1s 49ms/step - loss: 2.5951e-04\n",
            "Epoch 6/50\n",
            "16/16 [==============================] - 1s 51ms/step - loss: 2.6091e-04\n",
            "Epoch 7/50\n",
            "16/16 [==============================] - 1s 51ms/step - loss: 2.5169e-04\n",
            "Epoch 8/50\n",
            "16/16 [==============================] - 1s 51ms/step - loss: 2.4940e-04\n",
            "Epoch 9/50\n",
            "16/16 [==============================] - 1s 48ms/step - loss: 2.6165e-04\n",
            "Epoch 10/50\n",
            "16/16 [==============================] - 0s 30ms/step - loss: 2.6209e-04\n",
            "Epoch 11/50\n",
            "16/16 [==============================] - 0s 29ms/step - loss: 2.4839e-04\n",
            "Epoch 12/50\n",
            "16/16 [==============================] - 0s 30ms/step - loss: 2.4052e-04\n",
            "Epoch 13/50\n",
            "16/16 [==============================] - 0s 30ms/step - loss: 2.3736e-04\n",
            "Epoch 14/50\n",
            "16/16 [==============================] - 0s 31ms/step - loss: 2.4852e-04\n",
            "Epoch 15/50\n",
            "16/16 [==============================] - 0s 30ms/step - loss: 2.4258e-04\n",
            "Epoch 16/50\n",
            "16/16 [==============================] - 1s 31ms/step - loss: 2.3385e-04\n",
            "Epoch 17/50\n",
            "16/16 [==============================] - 0s 29ms/step - loss: 2.4082e-04\n",
            "Epoch 18/50\n",
            "16/16 [==============================] - 0s 30ms/step - loss: 2.2981e-04\n",
            "Epoch 19/50\n",
            "16/16 [==============================] - 0s 29ms/step - loss: 2.3627e-04\n",
            "Epoch 20/50\n",
            "16/16 [==============================] - 0s 30ms/step - loss: 2.2739e-04\n",
            "Epoch 21/50\n",
            "16/16 [==============================] - 0s 29ms/step - loss: 2.2647e-04\n",
            "Epoch 22/50\n",
            "16/16 [==============================] - 0s 30ms/step - loss: 2.3064e-04\n",
            "Epoch 23/50\n",
            "16/16 [==============================] - 0s 30ms/step - loss: 2.1976e-04\n",
            "Epoch 24/50\n",
            "16/16 [==============================] - 0s 31ms/step - loss: 2.2339e-04\n",
            "Epoch 25/50\n",
            "16/16 [==============================] - 0s 30ms/step - loss: 2.3063e-04\n",
            "Epoch 26/50\n",
            "16/16 [==============================] - 0s 30ms/step - loss: 2.2445e-04\n",
            "Epoch 27/50\n",
            "16/16 [==============================] - 0s 30ms/step - loss: 2.1626e-04\n",
            "Epoch 28/50\n",
            "16/16 [==============================] - 0s 29ms/step - loss: 2.1323e-04\n",
            "Epoch 29/50\n",
            "16/16 [==============================] - 0s 30ms/step - loss: 2.1109e-04\n",
            "Epoch 30/50\n",
            "16/16 [==============================] - 1s 39ms/step - loss: 2.0559e-04\n",
            "Epoch 31/50\n",
            "16/16 [==============================] - 1s 50ms/step - loss: 2.0994e-04\n",
            "Epoch 32/50\n",
            "16/16 [==============================] - 1s 50ms/step - loss: 2.0727e-04\n",
            "Epoch 33/50\n",
            "16/16 [==============================] - 1s 50ms/step - loss: 2.0090e-04\n",
            "Epoch 34/50\n",
            "16/16 [==============================] - 1s 49ms/step - loss: 2.1937e-04\n",
            "Epoch 35/50\n",
            "16/16 [==============================] - 1s 48ms/step - loss: 2.1450e-04\n",
            "Epoch 36/50\n",
            "16/16 [==============================] - 1s 31ms/step - loss: 1.9886e-04\n",
            "Epoch 37/50\n",
            "16/16 [==============================] - 0s 30ms/step - loss: 1.9514e-04\n",
            "Epoch 38/50\n",
            "16/16 [==============================] - 0s 30ms/step - loss: 1.9923e-04\n",
            "Epoch 39/50\n",
            "16/16 [==============================] - 0s 29ms/step - loss: 1.9377e-04\n",
            "Epoch 40/50\n",
            "16/16 [==============================] - 0s 30ms/step - loss: 1.9379e-04\n",
            "Epoch 41/50\n",
            "16/16 [==============================] - 0s 29ms/step - loss: 1.9013e-04\n",
            "Epoch 42/50\n",
            "16/16 [==============================] - 0s 30ms/step - loss: 1.8697e-04\n",
            "Epoch 43/50\n",
            "16/16 [==============================] - 0s 29ms/step - loss: 1.8585e-04\n",
            "Epoch 44/50\n",
            "16/16 [==============================] - 1s 31ms/step - loss: 1.8312e-04\n",
            "Epoch 45/50\n",
            "16/16 [==============================] - 0s 30ms/step - loss: 1.8343e-04\n",
            "Epoch 46/50\n",
            "16/16 [==============================] - 0s 30ms/step - loss: 1.8285e-04\n",
            "Epoch 47/50\n",
            "16/16 [==============================] - 0s 29ms/step - loss: 1.8208e-04\n",
            "Epoch 48/50\n",
            "16/16 [==============================] - 0s 30ms/step - loss: 1.8308e-04\n",
            "Epoch 49/50\n",
            "16/16 [==============================] - 0s 30ms/step - loss: 1.8070e-04\n",
            "Epoch 50/50\n",
            "16/16 [==============================] - 0s 29ms/step - loss: 1.7570e-04\n"
          ]
        },
        {
          "output_type": "execute_result",
          "data": {
            "text/plain": [
              "<keras.callbacks.History at 0x7f669e440c40>"
            ]
          },
          "metadata": {},
          "execution_count": 255
        }
      ]
    },
    {
      "cell_type": "code",
      "source": [
        "#Create the testing data set\n",
        "#Create a new array containing scaled data from 2014 to 2157(end of the data set)\n",
        "test_data = scaled_data[training_data_len - 60:, :]\n",
        "#Create the datasets x_test and y_test\n",
        "x_test = [] #contains the past 60 values\n",
        "y_test = dataset[training_data_len:, :]#All the values we want our model to predict which is our actual test values\n",
        "for i in range(60, len(test_data)):\n",
        "    x_test.append(test_data[i-60:i, 0])"
      ],
      "metadata": {
        "id": "MD8hC7MXbozd"
      },
      "execution_count": null,
      "outputs": []
    },
    {
      "cell_type": "code",
      "source": [
        "#Convert the data to a numpy array so we can use it in the LSTM model\n",
        "x_test = np.array(x_test)\n",
        "\n",
        "#Reshape the data\n",
        "x_test = np.reshape(x_test, (x_test.shape[0], x_test.shape[1], 1))"
      ],
      "metadata": {
        "id": "klNPRMrMrz7t"
      },
      "execution_count": null,
      "outputs": []
    },
    {
      "cell_type": "code",
      "source": [
        "x_test.shape"
      ],
      "metadata": {
        "colab": {
          "base_uri": "https://localhost:8080/"
        },
        "id": "zpC4KCcLcGkq",
        "outputId": "60122500-0291-4e15-db0d-ca7fab460cf0"
      },
      "execution_count": null,
      "outputs": [
        {
          "output_type": "execute_result",
          "data": {
            "text/plain": [
              "(503, 60, 1)"
            ]
          },
          "metadata": {},
          "execution_count": 64
        }
      ]
    },
    {
      "cell_type": "code",
      "source": [
        "#Get the model's predicted price values\n",
        "predictions = model.predict(x_test)\n",
        "predictions = scaler.inverse_transform(predictions)"
      ],
      "metadata": {
        "colab": {
          "base_uri": "https://localhost:8080/"
        },
        "id": "sDMwJgZRclYq",
        "outputId": "da32f641-f9b0-4536-e3fa-c64f17370d03"
      },
      "execution_count": null,
      "outputs": [
        {
          "output_type": "stream",
          "name": "stdout",
          "text": [
            "16/16 [==============================] - 1s 8ms/step\n"
          ]
        }
      ]
    },
    {
      "cell_type": "code",
      "source": [
        "#Get the root mean squared error (RMSE)\n",
        "rmse = np.sqrt(np.mean(predictions - y_test)**2)\n",
        "print(f'The root mean squared value is: {rmse}')"
      ],
      "metadata": {
        "colab": {
          "base_uri": "https://localhost:8080/"
        },
        "id": "U935Q9n5dC95",
        "outputId": "3eea6cae-7d62-449b-d26a-be02bec96135"
      },
      "execution_count": null,
      "outputs": [
        {
          "output_type": "stream",
          "name": "stdout",
          "text": [
            "The root mean squared value is: 7.296383845427471\n"
          ]
        }
      ]
    },
    {
      "cell_type": "code",
      "source": [],
      "metadata": {
        "id": "FjHMqq8jdWno"
      },
      "execution_count": null,
      "outputs": []
    },
    {
      "cell_type": "code",
      "source": [
        "#plot the data\n",
        "train = close_data_df[:training_data_len]\n",
        "valid = close_data_df[training_data_len:]\n",
        "valid['predictions'] = predictions\n",
        "#visualise the data\n",
        "plt.figure(figsize=(10,5))\n",
        "plt.title('Model', fontsize=18)\n",
        "plt.xlabel('Date')\n",
        "plt.ylabel('Close Price', fontsize=18)\n",
        "plt.plot(train['Close'])\n",
        "plt.plot(valid[['Close', 'predictions']])\n",
        "plt.legend(['Train', 'Actual close price', 'Predictions'], loc='lower right', fontsize=12)"
      ],
      "metadata": {
        "colab": {
          "base_uri": "https://localhost:8080/",
          "height": 528
        },
        "id": "xp3VV8zLdz1a",
        "outputId": "3aaab684-5bfb-4e16-a534-9bd437364f98"
      },
      "execution_count": null,
      "outputs": [
        {
          "output_type": "stream",
          "name": "stderr",
          "text": [
            "<ipython-input-248-18ff6062a18d>:4: SettingWithCopyWarning: \n",
            "A value is trying to be set on a copy of a slice from a DataFrame.\n",
            "Try using .loc[row_indexer,col_indexer] = value instead\n",
            "\n",
            "See the caveats in the documentation: https://pandas.pydata.org/pandas-docs/stable/user_guide/indexing.html#returning-a-view-versus-a-copy\n",
            "  valid['predictions'] = predictions\n"
          ]
        },
        {
          "output_type": "execute_result",
          "data": {
            "text/plain": [
              "<matplotlib.legend.Legend at 0x7f66a964c550>"
            ]
          },
          "metadata": {},
          "execution_count": 248
        },
        {
          "output_type": "display_data",
          "data": {
            "text/plain": [
              "<Figure size 1000x500 with 1 Axes>"
            ],
            "image/png": "[encoded data removed]"
          },
          "metadata": {}
        }
      ]
    },
    {
      "cell_type": "code",
      "source": [
        "valid.head()"
      ],
      "metadata": {
        "colab": {
          "base_uri": "https://localhost:8080/",
          "height": 238
        },
        "id": "rR5PyHSveyUg",
        "outputId": "b27e06ef-815e-4db9-ae19-77aaf9ff435f"
      },
      "execution_count": null,
      "outputs": [
        {
          "output_type": "execute_result",
          "data": {
            "text/plain": [
              "                   Close   predictions\n",
              "Date                                  \n",
              "2021-04-09  13900.190430  13822.927734\n",
              "2021-04-12  13850.000000  13927.326172\n",
              "2021-04-13  13996.099609  13894.690430\n",
              "2021-04-14  13857.839844  14011.433594\n",
              "2021-04-15  14038.759766  13909.102539"
            ],
            "text/html": [
              "\n",
              "  <div id=\"df-f7928a64-f8b3-4990-86c8-4bc296a2e35c\">\n",
              "    <div class=\"colab-df-container\">\n",
              "      <div>\n",
              "<style scoped>\n",
              "    .dataframe tbody tr th:only-of-type {\n",
              "        vertical-align: middle;\n",
              "    }\n",
              "\n",
              "    .dataframe tbody tr th {\n",
              "        vertical-align: top;\n",
              "    }\n",
              "\n",
              "    .dataframe thead th {\n",
              "        text-align: right;\n",
              "    }\n",
              "</style>\n",
              "<table border=\"1\" class=\"dataframe\">\n",
              "  <thead>\n",
              "    <tr style=\"text-align: right;\">\n",
              "      <th></th>\n",
              "      <th>Close</th>\n",
              "      <th>predictions</th>\n",
              "    </tr>\n",
              "    <tr>\n",
              "      <th>Date</th>\n",
              "      <th></th>\n",
              "      <th></th>\n",
              "    </tr>\n",
              "  </thead>\n",
              "  <tbody>\n",
              "    <tr>\n",
              "      <th>2021-04-09</th>\n",
              "      <td>13900.190430</td>\n",
              "      <td>13822.927734</td>\n",
              "    </tr>\n",
              "    <tr>\n",
              "      <th>2021-04-12</th>\n",
              "      <td>13850.000000</td>\n",
              "      <td>13927.326172</td>\n",
              "    </tr>\n",
              "    <tr>\n",
              "      <th>2021-04-13</th>\n",
              "      <td>13996.099609</td>\n",
              "      <td>13894.690430</td>\n",
              "    </tr>\n",
              "    <tr>\n",
              "      <th>2021-04-14</th>\n",
              "      <td>13857.839844</td>\n",
              "      <td>14011.433594</td>\n",
              "    </tr>\n",
              "    <tr>\n",
              "      <th>2021-04-15</th>\n",
              "      <td>14038.759766</td>\n",
              "      <td>13909.102539</td>\n",
              "    </tr>\n",
              "  </tbody>\n",
              "</table>\n",
              "</div>\n",
              "      <button class=\"colab-df-convert\" onclick=\"convertToInteractive('df-f7928a64-f8b3-4990-86c8-4bc296a2e35c')\"\n",
              "              title=\"Convert this dataframe to an interactive table.\"\n",
              "              style=\"display:none;\">\n",
              "        \n",
              "  <svg xmlns=\"http://www.w3.org/2000/svg\" height=\"24px\"viewBox=\"0 0 24 24\"\n",
              "       width=\"24px\">\n",
              "    <path d=\"M0 0h24v24H0V0z\" fill=\"none\"/>\n",
              "    <path d=\"M18.56 5.44l.94 2.06.94-2.06 2.06-.94-2.06-.94-.94-2.06-.94 2.06-2.06.94zm-11 1L8.5 8.5l.94-2.06 2.06-.94-2.06-.94L8.5 2.5l-.94 2.06-2.06.94zm10 10l.94 2.06.94-2.06 2.06-.94-2.06-.94-.94-2.06-.94 2.06-2.06.94z\"/><path d=\"M17.41 7.96l-1.37-1.37c-.4-.4-.92-.59-1.43-.59-.52 0-1.04.2-1.43.59L10.3 9.45l-7.72 7.72c-.78.78-.78 2.05 0 2.83L4 21.41c.39.39.9.59 1.41.59.51 0 1.02-.2 1.41-.59l7.78-7.78 2.81-2.81c.8-.78.8-2.07 0-2.86zM5.41 20L4 18.59l7.72-7.72 1.47 1.35L5.41 20z\"/>\n",
              "  </svg>\n",
              "      </button>\n",
              "      \n",
              "  <style>\n",
              "    .colab-df-container {\n",
              "      display:flex;\n",
              "      flex-wrap:wrap;\n",
              "      gap: 12px;\n",
              "    }\n",
              "\n",
              "    .colab-df-convert {\n",
              "      background-color: #E8F0FE;\n",
              "      border: none;\n",
              "      border-radius: 50%;\n",
              "      cursor: pointer;\n",
              "      display: none;\n",
              "      fill: #1967D2;\n",
              "      height: 32px;\n",
              "      padding: 0 0 0 0;\n",
              "      width: 32px;\n",
              "    }\n",
              "\n",
              "    .colab-df-convert:hover {\n",
              "      background-color: #E2EBFA;\n",
              "      box-shadow: 0px 1px 2px rgba(60, 64, 67, 0.3), 0px 1px 3px 1px rgba(60, 64, 67, 0.15);\n",
              "      fill: #174EA6;\n",
              "    }\n",
              "\n",
              "    [theme=dark] .colab-df-convert {\n",
              "      background-color: #3B4455;\n",
              "      fill: #D2E3FC;\n",
              "    }\n",
              "\n",
              "    [theme=dark] .colab-df-convert:hover {\n",
              "      background-color: #434B5C;\n",
              "      box-shadow: 0px 1px 3px 1px rgba(0, 0, 0, 0.15);\n",
              "      filter: drop-shadow(0px 1px 2px rgba(0, 0, 0, 0.3));\n",
              "      fill: #FFFFFF;\n",
              "    }\n",
              "  </style>\n",
              "\n",
              "      <script>\n",
              "        const buttonEl =\n",
              "          document.querySelector('#df-f7928a64-f8b3-4990-86c8-4bc296a2e35c button.colab-df-convert');\n",
              "        buttonEl.style.display =\n",
              "          google.colab.kernel.accessAllowed ? 'block' : 'none';\n",
              "\n",
              "        async function convertToInteractive(key) {\n",
              "          const element = document.querySelector('#df-f7928a64-f8b3-4990-86c8-4bc296a2e35c');\n",
              "          const dataTable =\n",
              "            await google.colab.kernel.invokeFunction('convertToInteractive',\n",
              "                                                     [key], {});\n",
              "          if (!dataTable) return;\n",
              "\n",
              "          const docLinkHtml = 'Like what you see? Visit the ' +\n",
              "            '<a target=\"_blank\" href=https://colab.research.google.com/notebooks/data_table.ipynb>data table notebook</a>'\n",
              "            + ' to learn more about interactive tables.';\n",
              "          element.innerHTML = '';\n",
              "          dataTable['output_type'] = 'display_data';\n",
              "          await google.colab.output.renderOutput(dataTable, element);\n",
              "          const docLink = document.createElement('div');\n",
              "          docLink.innerHTML = docLinkHtml;\n",
              "          element.appendChild(docLink);\n",
              "        }\n",
              "      </script>\n",
              "    </div>\n",
              "  </div>\n",
              "  "
            ]
          },
          "metadata": {},
          "execution_count": 260
        }
      ]
    },
    {
      "cell_type": "code",
      "source": [
        "import seaborn as sns"
      ],
      "metadata": {
        "id": "V3xch2rofPqZ"
      },
      "execution_count": null,
      "outputs": []
    },
    {
      "cell_type": "code",
      "source": [
        "sns.regplot(x=valid['Close'], y=valid['predictions'],line_kws={\"color\": \"red\"}, marker='*')"
      ],
      "metadata": {
        "colab": {
          "base_uri": "https://localhost:8080/",
          "height": 466
        },
        "id": "5u47KgsVfFFb",
        "outputId": "0725e749-9b59-4818-c20a-f32211984fcd"
      },
      "execution_count": null,
      "outputs": [
        {
          "output_type": "execute_result",
          "data": {
            "text/plain": [
              "<Axes: xlabel='Close', ylabel='predictions'>"
            ]
          },
          "metadata": {},
          "execution_count": 71
        },
        {
          "output_type": "display_data",
          "data": {
            "text/plain": [
              "<Figure size 640x480 with 1 Axes>"
            ],
            "image/png": "[encoded data removed]"
          },
          "metadata": {}
        }
      ]
    },
    {
      "cell_type": "code",
      "source": [
        "from sklearn.metrics import mean_squared_error\n",
        "\n",
        "def calculate_metrics(y_true, y_pred):\n",
        "    rmse = np.sqrt(mean_squared_error(y_true, y_pred))\n",
        "    mape = np.mean(np.abs((y_true - y_pred) / y_true)) * 100\n",
        "    r = np.corrcoef(y_true, y_pred)[0,1]\n",
        "    return rmse, mape, r"
      ],
      "metadata": {
        "id": "0AlUfhOuhMT7"
      },
      "execution_count": null,
      "outputs": []
    },
    {
      "cell_type": "code",
      "source": [
        "calculate_metrics(valid['Close'], valid['predictions'])"
      ],
      "metadata": {
        "colab": {
          "base_uri": "https://localhost:8080/"
        },
        "id": "thcbtr6ghVt5",
        "outputId": "677fa2ec-32ea-4162-e984-7b8667c02a2a"
      },
      "execution_count": null,
      "outputs": [
        {
          "output_type": "execute_result",
          "data": {
            "text/plain": [
              "(214.90683776977198, 1.3200591987617158, 0.9922680865161405)"
            ]
          },
          "metadata": {},
          "execution_count": 262
        }
      ]
    },
    {
      "cell_type": "code",
      "source": [
        "import matplotlib.pyplot as plt\n",
        "import seaborn as sns"
      ],
      "metadata": {
        "id": "yb10YeuH4mwk"
      },
      "execution_count": null,
      "outputs": []
    },
    {
      "cell_type": "code",
      "source": [
        "rmse_data = [32.6426,24.6113, 31.1444, 24.7313, 59.2932, 37.4523, 124.6219, 25.3061]\n",
        "mape_data = [1.3874, 1.3186, 1.7106, 1.5746, 1.6053, 1.4294, 1.6972, 1.4264]\n",
        "r_data = [0.9916, 0.9919, 0.9871, 0.9888, 0.9892, 0.9908, 0.9896, 0.9907]\n",
        "\n",
        "fig, ax = sns.subplots()\n",
        "\n",
        "boxplot_data = [rmse_data, mape_data, r_data]\n",
        "labels = ['RMSE', 'MAPE', 'R']\n",
        "\n",
        "ax.boxplot(boxplot_data)\n",
        "ax.set_xticklabels(labels)\n",
        "\n",
        "# plt.show()\n",
        "\n",
        "\n"
      ],
      "metadata": {
        "colab": {
          "base_uri": "https://localhost:8080/",
          "height": 235
        },
        "id": "nir1ZHDPjwFM",
        "outputId": "9bbec511-96db-4f63-b2bb-ba8334be6f5e"
      },
      "execution_count": null,
      "outputs": [
        {
          "output_type": "error",
          "ename": "AttributeError",
          "evalue": "ignored",
          "traceback": [
            "\u001b[0;31m---------------------------------------------------------------------------\u001b[0m",
            "\u001b[0;31mAttributeError\u001b[0m                            Traceback (most recent call last)",
            "\u001b[0;32m<ipython-input-9-511821b84d79>\u001b[0m in \u001b[0;36m<cell line: 5>\u001b[0;34m()\u001b[0m\n\u001b[1;32m      3\u001b[0m \u001b[0mr_data\u001b[0m \u001b[0;34m=\u001b[0m \u001b[0;34m[\u001b[0m\u001b[0;36m0.9916\u001b[0m\u001b[0;34m,\u001b[0m \u001b[0;36m0.9919\u001b[0m\u001b[0;34m,\u001b[0m \u001b[0;36m0.9871\u001b[0m\u001b[0;34m,\u001b[0m \u001b[0;36m0.9888\u001b[0m\u001b[0;34m,\u001b[0m \u001b[0;36m0.9892\u001b[0m\u001b[0;34m,\u001b[0m \u001b[0;36m0.9908\u001b[0m\u001b[0;34m,\u001b[0m \u001b[0;36m0.9896\u001b[0m\u001b[0;34m,\u001b[0m \u001b[0;36m0.9907\u001b[0m\u001b[0;34m]\u001b[0m\u001b[0;34m\u001b[0m\u001b[0;34m\u001b[0m\u001b[0m\n\u001b[1;32m      4\u001b[0m \u001b[0;34m\u001b[0m\u001b[0m\n\u001b[0;32m----> 5\u001b[0;31m \u001b[0mfig\u001b[0m\u001b[0;34m,\u001b[0m \u001b[0max\u001b[0m \u001b[0;34m=\u001b[0m \u001b[0msns\u001b[0m\u001b[0;34m.\u001b[0m\u001b[0msubplots\u001b[0m\u001b[0;34m(\u001b[0m\u001b[0;34m)\u001b[0m\u001b[0;34m\u001b[0m\u001b[0;34m\u001b[0m\u001b[0m\n\u001b[0m\u001b[1;32m      6\u001b[0m \u001b[0;34m\u001b[0m\u001b[0m\n\u001b[1;32m      7\u001b[0m \u001b[0mboxplot_data\u001b[0m \u001b[0;34m=\u001b[0m \u001b[0;34m[\u001b[0m\u001b[0mrmse_data\u001b[0m\u001b[0;34m,\u001b[0m \u001b[0mmape_data\u001b[0m\u001b[0;34m,\u001b[0m \u001b[0mr_data\u001b[0m\u001b[0;34m]\u001b[0m\u001b[0;34m\u001b[0m\u001b[0;34m\u001b[0m\u001b[0m\n",
            "\u001b[0;31mAttributeError\u001b[0m: module 'seaborn' has no attribute 'subplots'"
          ]
        }
      ]
    }
  ]
}